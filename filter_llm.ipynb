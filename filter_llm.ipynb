{
 "cells": [
  {
   "cell_type": "code",
   "execution_count": null,
   "id": "d2f61ce1",
   "metadata": {
    "vscode": {
     "languageId": "plaintext"
    }
   },
   "outputs": [],
   "source": [
    "import arxiv\n",
    "import time\n",
    "\n",
    "def get_abstract_from_arxiv_api(arxiv_id):\n",
    "    \"\"\"使用arXiv官方API获取摘要\"\"\"\n",
    "    try:\n",
    "        search = arxiv.Search(id_list=[arxiv_id])\n",
    "        paper = next(search.results())\n",
    "        return paper.summary\n",
    "    except Exception as e:\n",
    "        print(f\"获取 {arxiv_id} 摘要失败: {e}\")\n",
    "        return None\n",
    "\n",
    "# 为每篇论文添加摘要\n",
    "for paper in llm_related[:200]:  # 先测试前200篇\n",
    "    if 'abstract' not in paper or not paper['abstract']:\n",
    "        arxiv_id = paper['arxiv_id']\n",
    "        paper['abstract'] = get_abstract_from_arxiv_api(arxiv_id)\n",
    "    time.sleep(1)  # 礼貌性延迟，避免请求过频"
   ]
  }
 ],
 "metadata": {
  "language_info": {
   "name": "python"
  }
 },
 "nbformat": 4,
 "nbformat_minor": 5
}
